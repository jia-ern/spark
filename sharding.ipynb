{
  "nbformat": 4,
  "nbformat_minor": 0,
  "metadata": {
    "colab": {
      "provenance": []
    },
    "kernelspec": {
      "name": "python3",
      "display_name": "Python 3"
    },
    "language_info": {
      "name": "python"
    }
  },
  "cells": [
    {
      "cell_type": "markdown",
      "source": [
        "# Sharding\n",
        "- Database partitioning known as \"sharding\" divides big databases into smaller, easier-to-manage segments aka. \"shards.\"\n",
        "- a strategy used to horizontally partition data across multiple databases or servers\n",
        "- Purpose:\n",
        "  - Data Volume Growth\n",
        "  - Scalability\n",
        "  - Fault Isolation\n",
        "\n",
        "- Use this when:\n",
        "  - working with large datasets that grow fast — time-series data, logs, users, events.\n",
        "  - need horizontal scaling to distribute load or manage operational limits.\n",
        "  - want to run queries in parallel without bottlenecking on a single chunk of data.\n",
        "  - building on top of infrastructure like BigQuery, Hive, or Spark — where partitioning isn't optional, it's survival.\n",
        "\n",
        "- Type:\n",
        "  - Range-Based Sharding\n",
        "```\n",
        "SELECT * FROM users WHERE user_id BETWEEN 1 AND 1000;\n",
        "```\n",
        "\n",
        "  - Hash-Based Sharding\n",
        "```\n",
        "SELECT * FROM users WHERE MOD(user_id, 3) = 1;  -- For shard 1\n",
        "SELECT * FROM users WHERE MOD(user_id, 3) = 2;  -- For shard 2\n",
        "```\n",
        "query fetches rows from the users table for which remainder of dividing user_id by 3 is 2 (e.g., user IDs 2, 5, 8). It retrieves the data from shard 2.\n",
        "\n",
        "\n",
        "  - Directory-Based Sharding\n",
        "    - aka.lookup-based sharding\n",
        "    - map your shards with something called a lookup table.\n",
        "    - to shard a table based on region so that all rows in a certain region end up on the same shard, you can set up a lookup table that maps that region to the specific shard.\n",
        "\n",
        "  - MsSQL sharding implementation\n",
        "\n",
        "\n",
        "```\n",
        "// Example in Node.js to handle sharding logic\n",
        "import mysql from 'mysql2/promise';\n",
        "\n",
        "// Shard connections\n",
        "const shards = [\n",
        "  mysql.createConnection({ host: 'shard1.db.com', user: 'root', database: 'db1' }),\n",
        "  mysql.createConnection({ host: 'shard2.db.com', user: 'root', database: 'db2' }),\n",
        "];\n",
        "\n",
        "// Function to get shard by user ID (Range-based sharding)\n",
        "function getShardByUserId(userId: number) {\n",
        "  if (userId <= 1000) return shards[0]; // Shard 1\n",
        "  else return shards[1]; // Shard 2\n",
        "}\n",
        "\n",
        "// Query a user by ID\n",
        "async function getUserById(userId: number) {\n",
        "  const shard = getShardByUserId(userId);\n",
        "  const [rows] = await shard.query('SELECT * FROM users WHERE user_id = ?', [userId]);\n",
        "  return rows;\n",
        "}\n",
        "```\n",
        "\n",
        "**Best Practices for Sharding in MySQL**\n",
        "\n",
        "Choose an Effective Shard Key:\n",
        "- shard key should ensure an even distribution of data across shards to avoid hotspots. Choose keys that are unlikely to create an imbalanced distribution (e.g., avoid timestamps as shard keys in highly active systems).\n",
        "\n",
        "↳ Monitor and Adjust Shards:\n",
        "- Continuously monitor your shards for performance issues. If a particular shard becomes too large, consider re-sharding or adjusting your shard key distribution.\n",
        "\n",
        "↳ Automate Rebalancing:\n",
        "- Implement mechanisms to rebalance data automatically when a shard becomes overloaded. Tools like Vitess can help manage rebalancing for MySQL-based systems.\n",
        "\n",
        "↳ Backup and Recovery:\n",
        "- Ensure each shard is backed up separately and that you have a recovery strategy in place in case of data loss on a specific shard.\n"
      ],
      "metadata": {
        "id": "PYPnwqsbS8Gc"
      }
    },
    {
      "cell_type": "markdown",
      "source": [
        "# Partitioning vs Sharding\n",
        "Partitioning is logical. Sharding is physical."
      ],
      "metadata": {
        "id": "_NDUnmQJbMqb"
      }
    },
    {
      "cell_type": "code",
      "execution_count": 2,
      "metadata": {
        "colab": {
          "base_uri": "https://localhost:8080/"
        },
        "id": "O7bDMUuJSxJ_",
        "outputId": "d7bff6f2-9069-4ab3-cc9a-408c836d9f76"
      },
      "outputs": [
        {
          "output_type": "stream",
          "name": "stdout",
          "text": [
            "Inserted Alice into Shard_1 for court East\n",
            "Inserted Bob into Shard_2 for court West\n",
            "Inserted Charlie into Shard_3 for court North\n",
            "Inserted Diana into Shard_4 for court South\n",
            "[{'name': 'Alice', 'court': 'East'}]\n"
          ]
        }
      ],
      "source": [
        "# Example directory-based sharding\n",
        "# Example lookup table\n",
        "lookup_table = {\n",
        "    'East': 'Shard_1',\n",
        "    'West': 'Shard_2',\n",
        "    'North': 'Shard_3',\n",
        "    'South': 'Shard_4'\n",
        "}\n",
        "\n",
        "# Shards represented as separate \"databases\" (simplified for demonstration)\n",
        "shards = {\n",
        "    'Shard_1': [],\n",
        "    'Shard_2': [],\n",
        "    'Shard_3': [],\n",
        "    'Shard_4': []\n",
        "}\n",
        "\n",
        "def insert_member(name, court):\n",
        "    # Determine the shard\n",
        "    shard = lookup_table.get(court)\n",
        "    if not shard:\n",
        "        raise Exception(f\"No shard found for court: {court}\")\n",
        "\n",
        "    # Insert into the corresponding shard\n",
        "    shards[shard].append({'name': name, 'court': court})\n",
        "    print(f\"Inserted {name} into {shard} for court {court}\")\n",
        "\n",
        "def query_members_by_court(court):\n",
        "  # Determine the shard\n",
        "  shard = lookup_table.get(court)\n",
        "  if not shard:\n",
        "      raise Exception(f\"No shard found for court: {court}\")\n",
        "\n",
        "  # Query the corresponding shard\n",
        "  results = [member for member in shards[shard] if member['court'] == court]\n",
        "  return results\n",
        "\n",
        "# Insert data\n",
        "insert_member('Alice', 'East')\n",
        "insert_member('Bob', 'West')\n",
        "insert_member('Charlie', 'North')\n",
        "insert_member('Diana', 'South')\n",
        "\n",
        "# Query data\n",
        "print(query_members_by_court('East'))  # [{'name': 'Alice', 'court': 'East'}]"
      ]
    },
    {
      "cell_type": "code",
      "source": [
        "# Hash-based shardig\n",
        "import hashlib\n",
        "\n",
        "# Example shards\n",
        "shards = {\n",
        "    0: [],\n",
        "    1: [],\n",
        "    2: [],\n",
        "    3: []\n",
        "}\n",
        "\n",
        "# Function to determine shard using MD5 and modulo\n",
        "def get_shard(id, num_shards=4):\n",
        "    # Hash the id using MD5\n",
        "    hash_object = hashlib.md5(str(id).encode())\n",
        "    hash_value = hash_object.hexdigest()\n",
        "\n",
        "    # Convert the first 8 characters of the hash to decimal\n",
        "    decimal_value = int(hash_value[:8], 16)\n",
        "\n",
        "    print(hash_object, hash_value, decimal_value)\n",
        "\n",
        "    # Compute shard by modding with the number of shards\n",
        "    shard_number = decimal_value % num_shards\n",
        "    return shard_number\n",
        "\n",
        "# Insert into the appropriate shard\n",
        "def insert_member(id, name):\n",
        "    shard_number = get_shard(id)\n",
        "    shards[shard_number].append({'id': id, 'name': name})\n",
        "    print(f\"Inserted {name} (id={id}) into Shard {shard_number}\")\n",
        "\n",
        "# Example inserts\n",
        "insert_member(12345, \"Alice\")  # Goes to Shard 2\n",
        "insert_member(67890, \"Bob\")    # Goes to Shard 3\n",
        "\n",
        "# Output the shards\n",
        "print(shards)"
      ],
      "metadata": {
        "colab": {
          "base_uri": "https://localhost:8080/"
        },
        "id": "aJEFJYg5Wvrf",
        "outputId": "ad092dab-1549-4ade-f2c0-288b22acfbae"
      },
      "execution_count": 6,
      "outputs": [
        {
          "output_type": "stream",
          "name": "stdout",
          "text": [
            "<md5 _hashlib.HASH object @ 0x7efbd0bf29b0> 827ccb0eea8a706c4c34a16891f84e7b 2189216526\n",
            "Inserted Alice (id=12345) into Shard 2\n",
            "<md5 _hashlib.HASH object @ 0x7efbd0bf2590> 1e01ba3e07ac48cbdab2d3284d1dd0fa 503429694\n",
            "Inserted Bob (id=67890) into Shard 2\n",
            "{0: [], 1: [], 2: [{'id': 12345, 'name': 'Alice'}, {'id': 67890, 'name': 'Bob'}], 3: []}\n"
          ]
        }
      ]
    }
  ]
}