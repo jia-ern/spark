{
  "nbformat": 4,
  "nbformat_minor": 0,
  "metadata": {
    "colab": {
      "provenance": []
    },
    "kernelspec": {
      "name": "python3",
      "display_name": "Python 3"
    },
    "language_info": {
      "name": "python"
    }
  },
  "cells": [
    {
      "cell_type": "code",
      "source": [
        "from pyspark.sql import SparkSession\n",
        "\n",
        "spark = (\n",
        "    SparkSession\n",
        "    .builder\n",
        "    .appName(\"Basic Transformation - II\")\n",
        "    .master(\"local[*]\")\n",
        "    .getOrCreate()\n",
        ")\n",
        "\n",
        "spark"
      ],
      "metadata": {
        "colab": {
          "base_uri": "https://localhost:8080/",
          "height": 219
        },
        "id": "LZf--FkR-rNU",
        "outputId": "b07b3f9d-1122-4adc-d74c-8153fe0b338b"
      },
      "execution_count": 8,
      "outputs": [
        {
          "output_type": "execute_result",
          "data": {
            "text/plain": [
              "<pyspark.sql.session.SparkSession at 0x7d807c0f3b10>"
            ],
            "text/html": [
              "\n",
              "            <div>\n",
              "                <p><b>SparkSession - in-memory</b></p>\n",
              "                \n",
              "        <div>\n",
              "            <p><b>SparkContext</b></p>\n",
              "\n",
              "            <p><a href=\"http://eb6ecc0e53c1:4040\">Spark UI</a></p>\n",
              "\n",
              "            <dl>\n",
              "              <dt>Version</dt>\n",
              "                <dd><code>v3.5.1</code></dd>\n",
              "              <dt>Master</dt>\n",
              "                <dd><code>local[*]</code></dd>\n",
              "              <dt>AppName</dt>\n",
              "                <dd><code>Basic Transformation - II</code></dd>\n",
              "            </dl>\n",
              "        </div>\n",
              "        \n",
              "            </div>\n",
              "        "
            ]
          },
          "metadata": {},
          "execution_count": 8
        }
      ]
    },
    {
      "cell_type": "code",
      "source": [
        "emp_data = [\n",
        "    [\"001\",\"101\",\"John Doe\",\"30\",\"Male\",\"50000\",\"2015-01-01\"],\n",
        "    [\"002\",\"101\",\"Jane Smith\",\"25\",\"Female\",\"45000\",\"2016-02-15\"],\n",
        "    [\"003\",\"102\",\"Bob Brown\",\"35\",\"Male\",\"55000\",\"2014-05-01\"],\n",
        "    [\"004\",\"102\",\"Alice Lee\",\"28\",\"Female\",\"48000\",\"2017-09-30\"],\n",
        "    [\"005\",\"103\",\"Jack Chan\",\"40\",\"Male\",\"60000\",\"2013-04-01\"],\n",
        "    [\"006\",\"103\",\"Jill Wong\",\"32\",\"Female\",\"52000\",\"2018-07-01\"],\n",
        "    [\"007\",\"101\",\"James Johnson\",\"42\",\"Male\",\"70000\",\"2012-03-15\"],\n",
        "    [\"008\",\"102\",\"Kate Kim\",\"29\",\"Female\",\"51000\",\"2019-10-01\"],\n",
        "    [\"009\",\"103\",\"Tom Tan\",\"33\",\"Male\",\"58000\",\"2016-06-01\"],\n",
        "    [\"010\",\"104\",\"Lisa Lee\",\"27\",\"Female\",\"47000\",\"2018-08-01\"],\n",
        "    [\"011\",\"104\",\"David Park\",\"38\",\"Male\",\"65000\",\"2015-11-01\"],\n",
        "    [\"012\",\"105\",\"Susan Chen\",\"31\",\"Female\",\"54000\",\"2017-02-15\"],\n",
        "    [\"013\",\"106\",\"Brian Kim\",\"45\",\"Male\",\"75000\",\"2011-07-01\"],\n",
        "    [\"014\",\"107\",\"Emily Lee\",\"26\",\"Female\",\"46000\",\"2019-01-01\"],\n",
        "    [\"015\",\"106\",\"Michael Lee\",\"37\",\"Male\",\"63000\",\"2014-09-30\"],\n",
        "    [\"016\",\"107\",\"Kelly Zhang\",\"30\",\"Female\",\"49000\",\"2018-04-01\"],\n",
        "    [\"017\",\"105\",\"George Wang\",\"34\",\"Male\",\"57000\",\"2016-03-15\"],\n",
        "    [\"018\",\"104\",\"Nancy Liu\",\"29\",\"Female\",\"50000\",\"2017-06-01\"],\n",
        "    [\"019\",\"103\",\"Steven Chen\",\"36\",\"Male\",\"62000\",\"2015-08-01\"],\n",
        "    [\"020\",\"102\",\"Grace Kim\",\"32\",\"Female\",\"53000\",\"2018-11-01\"]\n",
        "]\n",
        "\n",
        "emp_schema = \"employee_id string, department_id string, name string, age string, gender string, salary string, hire_date string\""
      ],
      "metadata": {
        "id": "Bq6VccI1-kPg"
      },
      "execution_count": 9,
      "outputs": []
    },
    {
      "cell_type": "code",
      "source": [
        "emp = spark.createDataFrame(data=emp_data, schema=emp_schema)\n",
        "emp.show()"
      ],
      "metadata": {
        "colab": {
          "base_uri": "https://localhost:8080/"
        },
        "id": "WKsVNSkc-lrc",
        "outputId": "0a4b4cd3-88ee-465f-ca0c-9f2789f202b0"
      },
      "execution_count": 10,
      "outputs": [
        {
          "output_type": "stream",
          "name": "stdout",
          "text": [
            "+-----------+-------------+-------------+---+------+------+----------+\n",
            "|employee_id|department_id|         name|age|gender|salary| hire_date|\n",
            "+-----------+-------------+-------------+---+------+------+----------+\n",
            "|        001|          101|     John Doe| 30|  Male| 50000|2015-01-01|\n",
            "|        002|          101|   Jane Smith| 25|Female| 45000|2016-02-15|\n",
            "|        003|          102|    Bob Brown| 35|  Male| 55000|2014-05-01|\n",
            "|        004|          102|    Alice Lee| 28|Female| 48000|2017-09-30|\n",
            "|        005|          103|    Jack Chan| 40|  Male| 60000|2013-04-01|\n",
            "|        006|          103|    Jill Wong| 32|Female| 52000|2018-07-01|\n",
            "|        007|          101|James Johnson| 42|  Male| 70000|2012-03-15|\n",
            "|        008|          102|     Kate Kim| 29|Female| 51000|2019-10-01|\n",
            "|        009|          103|      Tom Tan| 33|  Male| 58000|2016-06-01|\n",
            "|        010|          104|     Lisa Lee| 27|Female| 47000|2018-08-01|\n",
            "|        011|          104|   David Park| 38|  Male| 65000|2015-11-01|\n",
            "|        012|          105|   Susan Chen| 31|Female| 54000|2017-02-15|\n",
            "|        013|          106|    Brian Kim| 45|  Male| 75000|2011-07-01|\n",
            "|        014|          107|    Emily Lee| 26|Female| 46000|2019-01-01|\n",
            "|        015|          106|  Michael Lee| 37|  Male| 63000|2014-09-30|\n",
            "|        016|          107|  Kelly Zhang| 30|Female| 49000|2018-04-01|\n",
            "|        017|          105|  George Wang| 34|  Male| 57000|2016-03-15|\n",
            "|        018|          104|    Nancy Liu| 29|Female| 50000|2017-06-01|\n",
            "|        019|          103|  Steven Chen| 36|  Male| 62000|2015-08-01|\n",
            "|        020|          102|    Grace Kim| 32|Female| 53000|2018-11-01|\n",
            "+-----------+-------------+-------------+---+------+------+----------+\n",
            "\n"
          ]
        }
      ]
    },
    {
      "cell_type": "code",
      "source": [
        "emp.printSchema()"
      ],
      "metadata": {
        "colab": {
          "base_uri": "https://localhost:8080/"
        },
        "id": "6QtmUKlE-x6f",
        "outputId": "79cc8bc8-c3d2-4299-ed67-c5ed10007ec4"
      },
      "execution_count": 11,
      "outputs": [
        {
          "output_type": "stream",
          "name": "stdout",
          "text": [
            "root\n",
            " |-- employee_id: string (nullable = true)\n",
            " |-- department_id: string (nullable = true)\n",
            " |-- name: string (nullable = true)\n",
            " |-- age: string (nullable = true)\n",
            " |-- gender: string (nullable = true)\n",
            " |-- salary: string (nullable = true)\n",
            " |-- hire_date: string (nullable = true)\n",
            "\n"
          ]
        }
      ]
    },
    {
      "cell_type": "code",
      "source": [
        "# Small Example for Schema\n",
        "from pyspark.sql.types import StructType, StructField, StringType, IntegerType\n",
        "schema_string = \"name string, age int\"\n",
        "\n",
        "schema_spark =  StructType([\n",
        "    StructField(\"name\", StringType(), True),\n",
        "    StructField(\"age\", IntegerType(), True)\n",
        "])"
      ],
      "metadata": {
        "id": "zHog2oc94ROr"
      },
      "execution_count": 12,
      "outputs": []
    },
    {
      "cell_type": "code",
      "source": [
        "from pyspark.sql.functions import col, expr\n",
        "\n",
        "emp[\"salary\"]"
      ],
      "metadata": {
        "colab": {
          "base_uri": "https://localhost:8080/"
        },
        "id": "eKMsBeGw4TFI",
        "outputId": "84e3a9c2-8675-4f42-d7e6-3a2ff1d18201"
      },
      "execution_count": 13,
      "outputs": [
        {
          "output_type": "execute_result",
          "data": {
            "text/plain": [
              "Column<'salary'>"
            ]
          },
          "metadata": {},
          "execution_count": 13
        }
      ]
    },
    {
      "cell_type": "code",
      "source": [
        "emp_filtered = emp.select(col(\"employee_id\"), expr(\"name\"), emp.age, emp.salary)\n",
        "emp_filtered.show()"
      ],
      "metadata": {
        "colab": {
          "base_uri": "https://localhost:8080/"
        },
        "id": "7ZUHmbNq4VB8",
        "outputId": "fc0c256c-2b75-4bd2-b443-5a1c1eecb650"
      },
      "execution_count": 14,
      "outputs": [
        {
          "output_type": "stream",
          "name": "stdout",
          "text": [
            "+-----------+-------------+---+------+\n",
            "|employee_id|         name|age|salary|\n",
            "+-----------+-------------+---+------+\n",
            "|        001|     John Doe| 30| 50000|\n",
            "|        002|   Jane Smith| 25| 45000|\n",
            "|        003|    Bob Brown| 35| 55000|\n",
            "|        004|    Alice Lee| 28| 48000|\n",
            "|        005|    Jack Chan| 40| 60000|\n",
            "|        006|    Jill Wong| 32| 52000|\n",
            "|        007|James Johnson| 42| 70000|\n",
            "|        008|     Kate Kim| 29| 51000|\n",
            "|        009|      Tom Tan| 33| 58000|\n",
            "|        010|     Lisa Lee| 27| 47000|\n",
            "|        011|   David Park| 38| 65000|\n",
            "|        012|   Susan Chen| 31| 54000|\n",
            "|        013|    Brian Kim| 45| 75000|\n",
            "|        014|    Emily Lee| 26| 46000|\n",
            "|        015|  Michael Lee| 37| 63000|\n",
            "|        016|  Kelly Zhang| 30| 49000|\n",
            "|        017|  George Wang| 34| 57000|\n",
            "|        018|    Nancy Liu| 29| 50000|\n",
            "|        019|  Steven Chen| 36| 62000|\n",
            "|        020|    Grace Kim| 32| 53000|\n",
            "+-----------+-------------+---+------+\n",
            "\n"
          ]
        }
      ]
    },
    {
      "cell_type": "code",
      "source": [
        "emp_casted = emp_filtered.select(expr(\"employee_id as emp_id\"), emp.name, expr(\"cast(age as int) as age\"), emp.salary)\n",
        "emp_casted.show()"
      ],
      "metadata": {
        "colab": {
          "base_uri": "https://localhost:8080/"
        },
        "id": "PhafpgtD4bzg",
        "outputId": "c3f775f6-32cd-44d9-ebda-3bd4c6829a57"
      },
      "execution_count": 15,
      "outputs": [
        {
          "output_type": "stream",
          "name": "stdout",
          "text": [
            "+------+-------------+---+------+\n",
            "|emp_id|         name|age|salary|\n",
            "+------+-------------+---+------+\n",
            "|   001|     John Doe| 30| 50000|\n",
            "|   002|   Jane Smith| 25| 45000|\n",
            "|   003|    Bob Brown| 35| 55000|\n",
            "|   004|    Alice Lee| 28| 48000|\n",
            "|   005|    Jack Chan| 40| 60000|\n",
            "|   006|    Jill Wong| 32| 52000|\n",
            "|   007|James Johnson| 42| 70000|\n",
            "|   008|     Kate Kim| 29| 51000|\n",
            "|   009|      Tom Tan| 33| 58000|\n",
            "|   010|     Lisa Lee| 27| 47000|\n",
            "|   011|   David Park| 38| 65000|\n",
            "|   012|   Susan Chen| 31| 54000|\n",
            "|   013|    Brian Kim| 45| 75000|\n",
            "|   014|    Emily Lee| 26| 46000|\n",
            "|   015|  Michael Lee| 37| 63000|\n",
            "|   016|  Kelly Zhang| 30| 49000|\n",
            "|   017|  George Wang| 34| 57000|\n",
            "|   018|    Nancy Liu| 29| 50000|\n",
            "|   019|  Steven Chen| 36| 62000|\n",
            "|   020|    Grace Kim| 32| 53000|\n",
            "+------+-------------+---+------+\n",
            "\n"
          ]
        }
      ]
    },
    {
      "cell_type": "code",
      "source": [
        "emp_final = emp_casted.select(\"emp_id\", \"name\", \"age\", \"salary\").where(\"age > 30\")\n",
        "emp_final.show()"
      ],
      "metadata": {
        "colab": {
          "base_uri": "https://localhost:8080/"
        },
        "id": "sk4tb5bA5G3H",
        "outputId": "1535b757-6b3a-4103-a2a2-9b4cbadc7171"
      },
      "execution_count": 16,
      "outputs": [
        {
          "output_type": "stream",
          "name": "stdout",
          "text": [
            "+------+-------------+---+------+\n",
            "|emp_id|         name|age|salary|\n",
            "+------+-------------+---+------+\n",
            "|   003|    Bob Brown| 35| 55000|\n",
            "|   005|    Jack Chan| 40| 60000|\n",
            "|   006|    Jill Wong| 32| 52000|\n",
            "|   007|James Johnson| 42| 70000|\n",
            "|   009|      Tom Tan| 33| 58000|\n",
            "|   011|   David Park| 38| 65000|\n",
            "|   012|   Susan Chen| 31| 54000|\n",
            "|   013|    Brian Kim| 45| 75000|\n",
            "|   015|  Michael Lee| 37| 63000|\n",
            "|   017|  George Wang| 34| 57000|\n",
            "|   019|  Steven Chen| 36| 62000|\n",
            "|   020|    Grace Kim| 32| 53000|\n",
            "+------+-------------+---+------+\n",
            "\n"
          ]
        }
      ]
    },
    {
      "cell_type": "code",
      "source": [
        "emp_final.write.format(\"csv\").save(\"data/output/2/emp.csv\")"
      ],
      "metadata": {
        "id": "kujC3lMT5T1w"
      },
      "execution_count": 17,
      "outputs": []
    },
    {
      "cell_type": "code",
      "source": [
        "# Bonus TIP\n",
        "\n",
        "schema_str = \"name string, age int\"\n",
        "\n",
        "from pyspark.sql.types import _parse_datatype_string\n",
        "\n",
        "schema_spark = _parse_datatype_string(schema_str)\n",
        "schema_spark"
      ],
      "metadata": {
        "colab": {
          "base_uri": "https://localhost:8080/"
        },
        "id": "6pt31ZfG5WVP",
        "outputId": "f537a485-a0d3-46ee-ee8f-be415a9674a3"
      },
      "execution_count": 18,
      "outputs": [
        {
          "output_type": "execute_result",
          "data": {
            "text/plain": [
              "StructType([StructField('name', StringType(), True), StructField('age', IntegerType(), True)])"
            ]
          },
          "metadata": {},
          "execution_count": 18
        }
      ]
    },
    {
      "cell_type": "code",
      "source": [
        "emp.printSchema()"
      ],
      "metadata": {
        "colab": {
          "base_uri": "https://localhost:8080/"
        },
        "id": "HMWN_5Iu5okC",
        "outputId": "7c29ea4f-3ea2-4fce-a3a2-7b47def33001"
      },
      "execution_count": 19,
      "outputs": [
        {
          "output_type": "stream",
          "name": "stdout",
          "text": [
            "root\n",
            " |-- employee_id: string (nullable = true)\n",
            " |-- department_id: string (nullable = true)\n",
            " |-- name: string (nullable = true)\n",
            " |-- age: string (nullable = true)\n",
            " |-- gender: string (nullable = true)\n",
            " |-- salary: string (nullable = true)\n",
            " |-- hire_date: string (nullable = true)\n",
            "\n"
          ]
        }
      ]
    },
    {
      "cell_type": "code",
      "source": [
        "emp_taxed = emp_casted.withColumn(\"tax\", col(\"salary\") * 0.2)\n",
        "emp_taxed.show()"
      ],
      "metadata": {
        "colab": {
          "base_uri": "https://localhost:8080/"
        },
        "id": "qmS3Xydr-2Ji",
        "outputId": "3cf99800-d3cd-4d34-9279-ac57b4c7370b"
      },
      "execution_count": 20,
      "outputs": [
        {
          "output_type": "stream",
          "name": "stdout",
          "text": [
            "+------+-------------+---+------+-------+\n",
            "|emp_id|         name|age|salary|    tax|\n",
            "+------+-------------+---+------+-------+\n",
            "|   001|     John Doe| 30| 50000|10000.0|\n",
            "|   002|   Jane Smith| 25| 45000| 9000.0|\n",
            "|   003|    Bob Brown| 35| 55000|11000.0|\n",
            "|   004|    Alice Lee| 28| 48000| 9600.0|\n",
            "|   005|    Jack Chan| 40| 60000|12000.0|\n",
            "|   006|    Jill Wong| 32| 52000|10400.0|\n",
            "|   007|James Johnson| 42| 70000|14000.0|\n",
            "|   008|     Kate Kim| 29| 51000|10200.0|\n",
            "|   009|      Tom Tan| 33| 58000|11600.0|\n",
            "|   010|     Lisa Lee| 27| 47000| 9400.0|\n",
            "|   011|   David Park| 38| 65000|13000.0|\n",
            "|   012|   Susan Chen| 31| 54000|10800.0|\n",
            "|   013|    Brian Kim| 45| 75000|15000.0|\n",
            "|   014|    Emily Lee| 26| 46000| 9200.0|\n",
            "|   015|  Michael Lee| 37| 63000|12600.0|\n",
            "|   016|  Kelly Zhang| 30| 49000| 9800.0|\n",
            "|   017|  George Wang| 34| 57000|11400.0|\n",
            "|   018|    Nancy Liu| 29| 50000|10000.0|\n",
            "|   019|  Steven Chen| 36| 62000|12400.0|\n",
            "|   020|    Grace Kim| 32| 53000|10600.0|\n",
            "+------+-------------+---+------+-------+\n",
            "\n"
          ]
        }
      ]
    },
    {
      "cell_type": "code",
      "source": [
        "from pyspark.sql.functions import lit\n",
        "\n",
        "emp_new_cols = emp_taxed.withColumn(\"columnOne\", lit(1)).withColumn(\"columnTwo\", lit('two'))\n",
        "emp_new_cols.show()"
      ],
      "metadata": {
        "colab": {
          "base_uri": "https://localhost:8080/"
        },
        "id": "GGkDYeTG_RTb",
        "outputId": "73ba2155-12dc-45b5-b22c-394ac22ba4fe"
      },
      "execution_count": 22,
      "outputs": [
        {
          "output_type": "stream",
          "name": "stdout",
          "text": [
            "+------+-------------+---+------+-------+---------+---------+\n",
            "|emp_id|         name|age|salary|    tax|columnOne|columnTwo|\n",
            "+------+-------------+---+------+-------+---------+---------+\n",
            "|   001|     John Doe| 30| 50000|10000.0|        1|      two|\n",
            "|   002|   Jane Smith| 25| 45000| 9000.0|        1|      two|\n",
            "|   003|    Bob Brown| 35| 55000|11000.0|        1|      two|\n",
            "|   004|    Alice Lee| 28| 48000| 9600.0|        1|      two|\n",
            "|   005|    Jack Chan| 40| 60000|12000.0|        1|      two|\n",
            "|   006|    Jill Wong| 32| 52000|10400.0|        1|      two|\n",
            "|   007|James Johnson| 42| 70000|14000.0|        1|      two|\n",
            "|   008|     Kate Kim| 29| 51000|10200.0|        1|      two|\n",
            "|   009|      Tom Tan| 33| 58000|11600.0|        1|      two|\n",
            "|   010|     Lisa Lee| 27| 47000| 9400.0|        1|      two|\n",
            "|   011|   David Park| 38| 65000|13000.0|        1|      two|\n",
            "|   012|   Susan Chen| 31| 54000|10800.0|        1|      two|\n",
            "|   013|    Brian Kim| 45| 75000|15000.0|        1|      two|\n",
            "|   014|    Emily Lee| 26| 46000| 9200.0|        1|      two|\n",
            "|   015|  Michael Lee| 37| 63000|12600.0|        1|      two|\n",
            "|   016|  Kelly Zhang| 30| 49000| 9800.0|        1|      two|\n",
            "|   017|  George Wang| 34| 57000|11400.0|        1|      two|\n",
            "|   018|    Nancy Liu| 29| 50000|10000.0|        1|      two|\n",
            "|   019|  Steven Chen| 36| 62000|12400.0|        1|      two|\n",
            "|   020|    Grace Kim| 32| 53000|10600.0|        1|      two|\n",
            "+------+-------------+---+------+-------+---------+---------+\n",
            "\n"
          ]
        }
      ]
    },
    {
      "cell_type": "code",
      "source": [
        "emp_1 = emp_new_cols.withColumnRenamed(\"employee_id\", \"emp_id\")\n",
        "emp_1.show()"
      ],
      "metadata": {
        "colab": {
          "base_uri": "https://localhost:8080/"
        },
        "id": "sMUT8CLq-5yH",
        "outputId": "4acc0c08-ec7d-49b4-a3f4-446469dd0ed7"
      },
      "execution_count": 23,
      "outputs": [
        {
          "output_type": "stream",
          "name": "stdout",
          "text": [
            "+------+-------------+---+------+-------+---------+---------+\n",
            "|emp_id|         name|age|salary|    tax|columnOne|columnTwo|\n",
            "+------+-------------+---+------+-------+---------+---------+\n",
            "|   001|     John Doe| 30| 50000|10000.0|        1|      two|\n",
            "|   002|   Jane Smith| 25| 45000| 9000.0|        1|      two|\n",
            "|   003|    Bob Brown| 35| 55000|11000.0|        1|      two|\n",
            "|   004|    Alice Lee| 28| 48000| 9600.0|        1|      two|\n",
            "|   005|    Jack Chan| 40| 60000|12000.0|        1|      two|\n",
            "|   006|    Jill Wong| 32| 52000|10400.0|        1|      two|\n",
            "|   007|James Johnson| 42| 70000|14000.0|        1|      two|\n",
            "|   008|     Kate Kim| 29| 51000|10200.0|        1|      two|\n",
            "|   009|      Tom Tan| 33| 58000|11600.0|        1|      two|\n",
            "|   010|     Lisa Lee| 27| 47000| 9400.0|        1|      two|\n",
            "|   011|   David Park| 38| 65000|13000.0|        1|      two|\n",
            "|   012|   Susan Chen| 31| 54000|10800.0|        1|      two|\n",
            "|   013|    Brian Kim| 45| 75000|15000.0|        1|      two|\n",
            "|   014|    Emily Lee| 26| 46000| 9200.0|        1|      two|\n",
            "|   015|  Michael Lee| 37| 63000|12600.0|        1|      two|\n",
            "|   016|  Kelly Zhang| 30| 49000| 9800.0|        1|      two|\n",
            "|   017|  George Wang| 34| 57000|11400.0|        1|      two|\n",
            "|   018|    Nancy Liu| 29| 50000|10000.0|        1|      two|\n",
            "|   019|  Steven Chen| 36| 62000|12400.0|        1|      two|\n",
            "|   020|    Grace Kim| 32| 53000|10600.0|        1|      two|\n",
            "+------+-------------+---+------+-------+---------+---------+\n",
            "\n"
          ]
        }
      ]
    },
    {
      "cell_type": "code",
      "source": [
        "emp_dropped = emp_new_cols.drop(\"columnTwo\", \"columnOne\")\n",
        "emp_dropped.show()"
      ],
      "metadata": {
        "colab": {
          "base_uri": "https://localhost:8080/"
        },
        "id": "7VOuQjQt_NW_",
        "outputId": "765296c0-7eb1-4727-dddb-337a9b49bc7e"
      },
      "execution_count": 24,
      "outputs": [
        {
          "output_type": "stream",
          "name": "stdout",
          "text": [
            "+------+-------------+---+------+-------+\n",
            "|emp_id|         name|age|salary|    tax|\n",
            "+------+-------------+---+------+-------+\n",
            "|   001|     John Doe| 30| 50000|10000.0|\n",
            "|   002|   Jane Smith| 25| 45000| 9000.0|\n",
            "|   003|    Bob Brown| 35| 55000|11000.0|\n",
            "|   004|    Alice Lee| 28| 48000| 9600.0|\n",
            "|   005|    Jack Chan| 40| 60000|12000.0|\n",
            "|   006|    Jill Wong| 32| 52000|10400.0|\n",
            "|   007|James Johnson| 42| 70000|14000.0|\n",
            "|   008|     Kate Kim| 29| 51000|10200.0|\n",
            "|   009|      Tom Tan| 33| 58000|11600.0|\n",
            "|   010|     Lisa Lee| 27| 47000| 9400.0|\n",
            "|   011|   David Park| 38| 65000|13000.0|\n",
            "|   012|   Susan Chen| 31| 54000|10800.0|\n",
            "|   013|    Brian Kim| 45| 75000|15000.0|\n",
            "|   014|    Emily Lee| 26| 46000| 9200.0|\n",
            "|   015|  Michael Lee| 37| 63000|12600.0|\n",
            "|   016|  Kelly Zhang| 30| 49000| 9800.0|\n",
            "|   017|  George Wang| 34| 57000|11400.0|\n",
            "|   018|    Nancy Liu| 29| 50000|10000.0|\n",
            "|   019|  Steven Chen| 36| 62000|12400.0|\n",
            "|   020|    Grace Kim| 32| 53000|10600.0|\n",
            "+------+-------------+---+------+-------+\n",
            "\n"
          ]
        }
      ]
    },
    {
      "cell_type": "code",
      "source": [
        "emp_limit = emp_filtered.limit(5)\n",
        "emp_limit.show()"
      ],
      "metadata": {
        "colab": {
          "base_uri": "https://localhost:8080/"
        },
        "id": "aTxFm13o_b5e",
        "outputId": "77c5e41c-f972-4499-c2be-e295ee2a4d48"
      },
      "execution_count": 25,
      "outputs": [
        {
          "output_type": "stream",
          "name": "stdout",
          "text": [
            "+-----------+----------+---+------+\n",
            "|employee_id|      name|age|salary|\n",
            "+-----------+----------+---+------+\n",
            "|        001|  John Doe| 30| 50000|\n",
            "|        002|Jane Smith| 25| 45000|\n",
            "|        003| Bob Brown| 35| 55000|\n",
            "|        004| Alice Lee| 28| 48000|\n",
            "|        005| Jack Chan| 40| 60000|\n",
            "+-----------+----------+---+------+\n",
            "\n"
          ]
        }
      ]
    },
    {
      "cell_type": "code",
      "source": [
        "columns = {\n",
        "    \"tax\" : col(\"salary\") * 0.2 ,\n",
        "    \"oneNumber\" : lit(1),\n",
        "    \"columnTwo\" : lit(\"two\")\n",
        "}\n",
        "\n",
        "emp_final = emp.withColumns(columns)\n",
        "emp_final.show()"
      ],
      "metadata": {
        "colab": {
          "base_uri": "https://localhost:8080/"
        },
        "id": "lRrZzTcs_g8b",
        "outputId": "0808f81c-150d-49a7-cd3f-da6c1246ae4e"
      },
      "execution_count": 27,
      "outputs": [
        {
          "output_type": "stream",
          "name": "stdout",
          "text": [
            "+-----------+-------------+-------------+---+------+------+----------+-------+---------+---------+\n",
            "|employee_id|department_id|         name|age|gender|salary| hire_date|    tax|oneNumber|columnTwo|\n",
            "+-----------+-------------+-------------+---+------+------+----------+-------+---------+---------+\n",
            "|        001|          101|     John Doe| 30|  Male| 50000|2015-01-01|10000.0|        1|      two|\n",
            "|        002|          101|   Jane Smith| 25|Female| 45000|2016-02-15| 9000.0|        1|      two|\n",
            "|        003|          102|    Bob Brown| 35|  Male| 55000|2014-05-01|11000.0|        1|      two|\n",
            "|        004|          102|    Alice Lee| 28|Female| 48000|2017-09-30| 9600.0|        1|      two|\n",
            "|        005|          103|    Jack Chan| 40|  Male| 60000|2013-04-01|12000.0|        1|      two|\n",
            "|        006|          103|    Jill Wong| 32|Female| 52000|2018-07-01|10400.0|        1|      two|\n",
            "|        007|          101|James Johnson| 42|  Male| 70000|2012-03-15|14000.0|        1|      two|\n",
            "|        008|          102|     Kate Kim| 29|Female| 51000|2019-10-01|10200.0|        1|      two|\n",
            "|        009|          103|      Tom Tan| 33|  Male| 58000|2016-06-01|11600.0|        1|      two|\n",
            "|        010|          104|     Lisa Lee| 27|Female| 47000|2018-08-01| 9400.0|        1|      two|\n",
            "|        011|          104|   David Park| 38|  Male| 65000|2015-11-01|13000.0|        1|      two|\n",
            "|        012|          105|   Susan Chen| 31|Female| 54000|2017-02-15|10800.0|        1|      two|\n",
            "|        013|          106|    Brian Kim| 45|  Male| 75000|2011-07-01|15000.0|        1|      two|\n",
            "|        014|          107|    Emily Lee| 26|Female| 46000|2019-01-01| 9200.0|        1|      two|\n",
            "|        015|          106|  Michael Lee| 37|  Male| 63000|2014-09-30|12600.0|        1|      two|\n",
            "|        016|          107|  Kelly Zhang| 30|Female| 49000|2018-04-01| 9800.0|        1|      two|\n",
            "|        017|          105|  George Wang| 34|  Male| 57000|2016-03-15|11400.0|        1|      two|\n",
            "|        018|          104|    Nancy Liu| 29|Female| 50000|2017-06-01|10000.0|        1|      two|\n",
            "|        019|          103|  Steven Chen| 36|  Male| 62000|2015-08-01|12400.0|        1|      two|\n",
            "|        020|          102|    Grace Kim| 32|Female| 53000|2018-11-01|10600.0|        1|      two|\n",
            "+-----------+-------------+-------------+---+------+------+----------+-------+---------+---------+\n",
            "\n"
          ]
        }
      ]
    },
    {
      "cell_type": "code",
      "source": [],
      "metadata": {
        "id": "K1s4MGYT_j0R"
      },
      "execution_count": null,
      "outputs": []
    }
  ]
}