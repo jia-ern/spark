{
 "cells": [
  {
   "cell_type": "code",
   "execution_count": 0,
   "metadata": {
    "application/vnd.databricks.v1+cell": {
     "cellMetadata": {
      "byteLimit": 2048000,
      "rowLimit": 10000
     },
     "inputWidgets": {},
     "nuid": "f0b4bda6-724d-4d5e-8311-edfcddef7611",
     "showTitle": false,
     "tableResultSettingsMap": {},
     "title": ""
    }
   },
   "outputs": [],
   "source": [
    "from pyspark.sql import SparkSession\n",
    "from pyspark.sql import Row\n",
    "from pyspark.sql.functions import col\n",
    "\n",
    "spark = SparkSession.builder.appName(\"CreditRiskAnalysis\").getOrCreate()\n",
    "\n",
    "data = [\n",
    "    Row(CustomerID=1, FirstName=\"John\", LastName=\"Doe\", TotalDebt=15000.0, GrossIncome=50000.0, \n",
    "        CreditUsed=3000.0, TotalCredit=10000.0, PaymentHistoryScore=85, NumberOfDefaults=1),\n",
    "    Row(CustomerID=2, FirstName=\"Jane\", LastName=\"Smith\", TotalDebt=25000.0, GrossIncome=60000.0, \n",
    "        CreditUsed=8000.0, TotalCredit=20000.0, PaymentHistoryScore=90, NumberOfDefaults=0),\n",
    "    Row(CustomerID=3, FirstName=\"Alice\", LastName=\"Johnson\", TotalDebt=30000.0, GrossIncome=45000.0, \n",
    "        CreditUsed=10000.0, TotalCredit=15000.0, PaymentHistoryScore=75, NumberOfDefaults=2),\n",
    "    Row(CustomerID=4, FirstName=\"Bob\", LastName=\"Brown\", TotalDebt=12000.0, GrossIncome=48000.0, \n",
    "        CreditUsed=4000.0, TotalCredit=12000.0, PaymentHistoryScore=80, NumberOfDefaults=1),\n",
    "    Row(CustomerID=5, FirstName=\"Charlie\", LastName=\"Davis\", TotalDebt=18000.0, GrossIncome=52000.0, \n",
    "        CreditUsed=5000.0, TotalCredit=15000.0, PaymentHistoryScore=70, NumberOfDefaults=2),\n",
    "    Row(CustomerID=6, FirstName=\"David\", LastName=\"Wilson\", TotalDebt=22000.0, GrossIncome=55000.0, \n",
    "        CreditUsed=7000.0, TotalCredit=20000.0, PaymentHistoryScore=88, NumberOfDefaults=0),\n",
    "    Row(CustomerID=7, FirstName=\"Eva\", LastName=\"Clark\", TotalDebt=9000.0, GrossIncome=47000.0, \n",
    "        CreditUsed=2500.0, TotalCredit=10000.0, PaymentHistoryScore=92, NumberOfDefaults=0),\n",
    "    Row(CustomerID=8, FirstName=\"Frank\", LastName=\"Miller\", TotalDebt=30000.0, GrossIncome=49000.0, \n",
    "        CreditUsed=9500.0, TotalCredit=20000.0, PaymentHistoryScore=65, NumberOfDefaults=3),\n",
    "    Row(CustomerID=9, FirstName=\"Grace\", LastName=\"Taylor\", TotalDebt=16000.0, GrossIncome=51000.0, \n",
    "        CreditUsed=2000.0, TotalCredit=12000.0, PaymentHistoryScore=78, NumberOfDefaults=1),\n",
    "    Row(CustomerID=10, FirstName=\"Hannah\", LastName=\"Anderson\", TotalDebt=17000.0, GrossIncome=53000.0, \n",
    "        CreditUsed=6000.0, TotalCredit=13000.0, PaymentHistoryScore=82, NumberOfDefaults=1),\n",
    "    Row(CustomerID=11, FirstName=\"Ian\", LastName=\"Thomas\", TotalDebt=20000.0, GrossIncome=54000.0, \n",
    "        CreditUsed=7500.0, TotalCredit=15000.0, PaymentHistoryScore=79, NumberOfDefaults=2),\n",
    "    Row(CustomerID=12, FirstName=\"Jack\", LastName=\"Jackson\", TotalDebt=24000.0, GrossIncome=60000.0, \n",
    "        CreditUsed=8500.0, TotalCredit=18000.0, PaymentHistoryScore=91, NumberOfDefaults=0),\n",
    "    Row(CustomerID=13, FirstName=\"Kathy\", LastName=\"White\", TotalDebt=11000.0, GrossIncome=46000.0, \n",
    "        CreditUsed=3500.0, TotalCredit=11000.0, PaymentHistoryScore=84, NumberOfDefaults=1),\n",
    "    Row(CustomerID=14, FirstName=\"Laura\", LastName=\"Harris\", TotalDebt=13000.0, GrossIncome=51000.0, \n",
    "        CreditUsed=2000.0, TotalCredit=12000.0, PaymentHistoryScore=80, NumberOfDefaults=1),\n",
    "    Row(CustomerID=15, FirstName=\"Mike\", LastName=\"Martin\", TotalDebt=19000.0, GrossIncome=52000.0, \n",
    "        CreditUsed=6000.0, TotalCredit=14000.0, PaymentHistoryScore=73, NumberOfDefaults=2),\n",
    "    Row(CustomerID=16, FirstName=\"Nina\", LastName=\"Thompson\", TotalDebt=21000.0, GrossIncome=57000.0, \n",
    "        CreditUsed=5000.0, TotalCredit=15000.0, PaymentHistoryScore=89, NumberOfDefaults=0),\n",
    "    Row(CustomerID=17, FirstName=\"Oscar\", LastName=\"Garcia\", TotalDebt=26000.0, GrossIncome=68000.0, \n",
    "        CreditUsed=10000.0, TotalCredit=25000.0, PaymentHistoryScore=72, NumberOfDefaults=3),\n",
    "    Row(CustomerID=18, FirstName=\"Paula\", LastName=\"Martinez\", TotalDebt=13000.0, GrossIncome=44000.0, \n",
    "        CreditUsed=3000.0, TotalCredit=10000.0, PaymentHistoryScore=87, NumberOfDefaults=0),\n",
    "    Row(CustomerID=19, FirstName=\"Quincy\", LastName=\"Lopez\", TotalDebt=27000.0, GrossIncome=72000.0, \n",
    "        CreditUsed=15000.0, TotalCredit=30000.0, PaymentHistoryScore=68, NumberOfDefaults=4),\n",
    "    Row(CustomerID=20, FirstName=\"Rachel\", LastName=\"Wilson\", TotalDebt=16000.0, GrossIncome=46000.0, \n",
    "        CreditUsed=4000.0, TotalCredit=11000.0, PaymentHistoryScore=90, NumberOfDefaults=1)\n",
    "]"
   ]
  },
  {
   "cell_type": "code",
   "execution_count": 0,
   "metadata": {
    "application/vnd.databricks.v1+cell": {
     "cellMetadata": {
      "byteLimit": 2048000,
      "rowLimit": 10000
     },
     "inputWidgets": {},
     "nuid": "486845f0-c520-489f-baa9-f1eaf6d0c4ef",
     "showTitle": false,
     "tableResultSettingsMap": {},
     "title": ""
    }
   },
   "outputs": [],
   "source": [
    "df = spark.createDataFrame(data)\n",
    "df.show(truncate=False)"
   ]
  },
  {
   "cell_type": "code",
   "execution_count": 0,
   "metadata": {
    "application/vnd.databricks.v1+cell": {
     "cellMetadata": {
      "byteLimit": 2048000,
      "rowLimit": 10000
     },
     "inputWidgets": {},
     "nuid": "aabab418-ef4b-4b34-acb8-9f5251825034",
     "showTitle": true,
     "tableResultSettingsMap": {},
     "title": "Add columns"
    }
   },
   "outputs": [],
   "source": [
    "# Calculate Debt-to-Income ratio\n",
    "df = df.withColumn(\"DTI\", col(\"TotalDebt\") / col(\"GrossIncome\"))\n",
    "\n",
    "# Calculate Credit Utilization Ratio\n",
    "df = df.withColumn(\"CUR\", col(\"CreditUsed\") / col(\"TotalCredit\"))"
   ]
  },
  {
   "cell_type": "code",
   "execution_count": 0,
   "metadata": {
    "application/vnd.databricks.v1+cell": {
     "cellMetadata": {
      "byteLimit": 2048000,
      "rowLimit": 10000
     },
     "inputWidgets": {},
     "nuid": "a182f160-638c-49c9-bfac-2677e4e80bd2",
     "showTitle": false,
     "tableResultSettingsMap": {},
     "title": ""
    }
   },
   "outputs": [],
   "source": [
    "# Step 7: Define risk categories based on DTI and CUR\n",
    "def risk_category(dti, cur):\n",
    "    if dti > 0.4 or cur > 0.3:\n",
    "        return \"High Risk\"\n",
    "    elif dti > 0.2 or cur > 0.2:\n",
    "        return \"Medium Risk\"\n",
    "    else:\n",
    "        return \"Low Risk\""
   ]
  },
  {
   "cell_type": "code",
   "execution_count": 0,
   "metadata": {
    "application/vnd.databricks.v1+cell": {
     "cellMetadata": {
      "byteLimit": 2048000,
      "rowLimit": 10000
     },
     "inputWidgets": {},
     "nuid": "699be682-258d-41b7-986e-fdc66751d59d",
     "showTitle": false,
     "tableResultSettingsMap": {},
     "title": ""
    }
   },
   "outputs": [],
   "source": [
    "from pyspark.sql.functions import udf\n",
    "from pyspark.sql.types import StringType\n",
    "\n",
    "risk_udf = udf(risk_category, StringType())\n",
    "df = df.withColumn(\"RiskCategory\", risk_udf(col(\"DTI\"), col(\"CUR\")))\n",
    "df.show(truncate=False)"
   ]
  },
  {
   "cell_type": "code",
   "execution_count": 0,
   "metadata": {
    "application/vnd.databricks.v1+cell": {
     "cellMetadata": {
      "byteLimit": 2048000,
      "rowLimit": 10000
     },
     "inputWidgets": {},
     "nuid": "6a7dd2de-77d2-406c-8086-250d4f1cd353",
     "showTitle": false,
     "tableResultSettingsMap": {},
     "title": ""
    }
   },
   "outputs": [],
   "source": [
    "df.select(\"CustomerID\", \"FirstName\", \"LastName\", \"DTI\", \"CUR\", \"RiskCategory\").show(truncate=False)"
   ]
  }
 ],
 "metadata": {
  "application/vnd.databricks.v1+notebook": {
   "computePreferences": null,
   "dashboards": [],
   "environmentMetadata": {
    "base_environment": "",
    "environment_version": "2"
   },
   "inputWidgetPreferences": null,
   "language": "python",
   "notebookMetadata": {
    "pythonIndentUnit": 4
   },
   "notebookName": "udf",
   "widgets": {}
  },
  "language_info": {
   "name": "python"
  }
 },
 "nbformat": 4,
 "nbformat_minor": 0
}
