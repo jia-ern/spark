{
  "nbformat": 4,
  "nbformat_minor": 0,
  "metadata": {
    "colab": {
      "provenance": []
    },
    "kernelspec": {
      "name": "python3",
      "display_name": "Python 3"
    },
    "language_info": {
      "name": "python"
    }
  },
  "cells": [
    {
      "cell_type": "code",
      "execution_count": 3,
      "metadata": {
        "colab": {
          "base_uri": "https://localhost:8080/",
          "height": 219
        },
        "id": "KtlwWqmwI9SR",
        "outputId": "990bad31-16a9-4194-ad9a-2880844dad09"
      },
      "outputs": [
        {
          "output_type": "execute_result",
          "data": {
            "text/plain": [
              "<pyspark.sql.session.SparkSession at 0x7e847e91d290>"
            ],
            "text/html": [
              "\n",
              "            <div>\n",
              "                <p><b>SparkSession - in-memory</b></p>\n",
              "                \n",
              "        <div>\n",
              "            <p><b>SparkContext</b></p>\n",
              "\n",
              "            <p><a href=\"http://5fe9bffe4a57:4040\">Spark UI</a></p>\n",
              "\n",
              "            <dl>\n",
              "              <dt>Version</dt>\n",
              "                <dd><code>v3.5.1</code></dd>\n",
              "              <dt>Master</dt>\n",
              "                <dd><code>local[*]</code></dd>\n",
              "              <dt>AppName</dt>\n",
              "                <dd><code>Unique data & Window Functions</code></dd>\n",
              "            </dl>\n",
              "        </div>\n",
              "        \n",
              "            </div>\n",
              "        "
            ]
          },
          "metadata": {},
          "execution_count": 3
        }
      ],
      "source": [
        "# Spark Session\n",
        "from pyspark.sql import SparkSession\n",
        "\n",
        "spark = (\n",
        "    SparkSession\n",
        "    .builder\n",
        "    .appName(\"Unique data & Window Functions\")\n",
        "    .master(\"local[*]\")\n",
        "    .getOrCreate()\n",
        ")\n",
        "\n",
        "spark"
      ]
    },
    {
      "cell_type": "code",
      "source": [
        "# Emp Data & Schema\n",
        "\n",
        "emp_data = [\n",
        "    [\"001\",\"101\",\"John Doe\",\"30\",\"Male\",\"50000\",\"2015-01-01\"],\n",
        "    [\"002\",\"101\",\"Jane Smith\",\"25\",\"Female\",\"45000\",\"2016-02-15\"],\n",
        "    [\"003\",\"102\",\"Bob Brown\",\"35\",\"Male\",\"55000\",\"2014-05-01\"],\n",
        "    [\"004\",\"102\",\"Alice Lee\",\"28\",\"Female\",\"48000\",\"2017-09-30\"],\n",
        "    [\"005\",\"103\",\"Jack Chan\",\"40\",\"Male\",\"60000\",\"2013-04-01\"],\n",
        "    [\"006\",\"103\",\"Jill Wong\",\"32\",\"Female\",\"52000\",\"2018-07-01\"],\n",
        "    [\"007\",\"101\",\"James Johnson\",\"42\",\"Male\",\"70000\",\"2012-03-15\"],\n",
        "    [\"008\",\"102\",\"Kate Kim\",\"29\",\"Female\",\"51000\",\"2019-10-01\"],\n",
        "    [\"009\",\"103\",\"Tom Tan\",\"33\",\"Male\",\"58000\",\"2016-06-01\"],\n",
        "    [\"010\",\"104\",\"Lisa Lee\",\"27\",\"Female\",\"47000\",\"2018-08-01\"],\n",
        "    [\"011\",\"104\",\"David Park\",\"38\",\"Male\",\"65000\",\"2015-11-01\"],\n",
        "    [\"012\",\"105\",\"Susan Chen\",\"31\",\"Female\",\"54000\",\"2017-02-15\"],\n",
        "    [\"013\",\"106\",\"Brian Kim\",\"45\",\"Male\",\"75000\",\"2011-07-01\"],\n",
        "    [\"014\",\"107\",\"Emily Lee\",\"26\",\"Female\",\"46000\",\"2019-01-01\"],\n",
        "    [\"015\",\"106\",\"Michael Lee\",\"37\",\"Male\",\"63000\",\"2014-09-30\"],\n",
        "    [\"016\",\"107\",\"Kelly Zhang\",\"30\",\"Female\",\"49000\",\"2018-04-01\"],\n",
        "    [\"017\",\"105\",\"George Wang\",\"34\",\"Male\",\"57000\",\"2016-03-15\"],\n",
        "    [\"018\",\"104\",\"Nancy Liu\",\"29\",\"\",\"50000\",\"2017-06-01\"],\n",
        "    [\"019\",\"103\",\"Steven Chen\",\"36\",\"Male\",\"62000\",\"2015-08-01\"],\n",
        "    [\"020\",\"102\",\"Grace Kim\",\"32\",\"Female\",\"53000\",\"2018-11-01\"]\n",
        "]\n",
        "\n",
        "emp_schema = \"employee_id string, department_id string, name string, age string, gender string, salary string, hire_date string\""
      ],
      "metadata": {
        "id": "cul5N6ZLJBNg"
      },
      "execution_count": 4,
      "outputs": []
    },
    {
      "cell_type": "code",
      "source": [
        "emp = spark.createDataFrame(data=emp_data, schema=emp_schema)\n",
        "emp.show()"
      ],
      "metadata": {
        "colab": {
          "base_uri": "https://localhost:8080/"
        },
        "id": "zLSo3EllJDKM",
        "outputId": "d5d97730-ed7f-4aad-be9a-87a40021f4bc"
      },
      "execution_count": 5,
      "outputs": [
        {
          "output_type": "stream",
          "name": "stdout",
          "text": [
            "+-----------+-------------+-------------+---+------+------+----------+\n",
            "|employee_id|department_id|         name|age|gender|salary| hire_date|\n",
            "+-----------+-------------+-------------+---+------+------+----------+\n",
            "|        001|          101|     John Doe| 30|  Male| 50000|2015-01-01|\n",
            "|        002|          101|   Jane Smith| 25|Female| 45000|2016-02-15|\n",
            "|        003|          102|    Bob Brown| 35|  Male| 55000|2014-05-01|\n",
            "|        004|          102|    Alice Lee| 28|Female| 48000|2017-09-30|\n",
            "|        005|          103|    Jack Chan| 40|  Male| 60000|2013-04-01|\n",
            "|        006|          103|    Jill Wong| 32|Female| 52000|2018-07-01|\n",
            "|        007|          101|James Johnson| 42|  Male| 70000|2012-03-15|\n",
            "|        008|          102|     Kate Kim| 29|Female| 51000|2019-10-01|\n",
            "|        009|          103|      Tom Tan| 33|  Male| 58000|2016-06-01|\n",
            "|        010|          104|     Lisa Lee| 27|Female| 47000|2018-08-01|\n",
            "|        011|          104|   David Park| 38|  Male| 65000|2015-11-01|\n",
            "|        012|          105|   Susan Chen| 31|Female| 54000|2017-02-15|\n",
            "|        013|          106|    Brian Kim| 45|  Male| 75000|2011-07-01|\n",
            "|        014|          107|    Emily Lee| 26|Female| 46000|2019-01-01|\n",
            "|        015|          106|  Michael Lee| 37|  Male| 63000|2014-09-30|\n",
            "|        016|          107|  Kelly Zhang| 30|Female| 49000|2018-04-01|\n",
            "|        017|          105|  George Wang| 34|  Male| 57000|2016-03-15|\n",
            "|        018|          104|    Nancy Liu| 29|      | 50000|2017-06-01|\n",
            "|        019|          103|  Steven Chen| 36|  Male| 62000|2015-08-01|\n",
            "|        020|          102|    Grace Kim| 32|Female| 53000|2018-11-01|\n",
            "+-----------+-------------+-------------+---+------+------+----------+\n",
            "\n"
          ]
        }
      ]
    },
    {
      "cell_type": "code",
      "source": [
        "emp_unique = emp.distinct()\n",
        "emp_unique.show()"
      ],
      "metadata": {
        "colab": {
          "base_uri": "https://localhost:8080/"
        },
        "id": "27QndQ7xJGcq",
        "outputId": "5b811c75-c1c6-4042-d733-aab08fe399e0"
      },
      "execution_count": 6,
      "outputs": [
        {
          "output_type": "stream",
          "name": "stdout",
          "text": [
            "+-----------+-------------+-------------+---+------+------+----------+\n",
            "|employee_id|department_id|         name|age|gender|salary| hire_date|\n",
            "+-----------+-------------+-------------+---+------+------+----------+\n",
            "|        007|          101|James Johnson| 42|  Male| 70000|2012-03-15|\n",
            "|        003|          102|    Bob Brown| 35|  Male| 55000|2014-05-01|\n",
            "|        001|          101|     John Doe| 30|  Male| 50000|2015-01-01|\n",
            "|        005|          103|    Jack Chan| 40|  Male| 60000|2013-04-01|\n",
            "|        010|          104|     Lisa Lee| 27|Female| 47000|2018-08-01|\n",
            "|        009|          103|      Tom Tan| 33|  Male| 58000|2016-06-01|\n",
            "|        004|          102|    Alice Lee| 28|Female| 48000|2017-09-30|\n",
            "|        008|          102|     Kate Kim| 29|Female| 51000|2019-10-01|\n",
            "|        006|          103|    Jill Wong| 32|Female| 52000|2018-07-01|\n",
            "|        002|          101|   Jane Smith| 25|Female| 45000|2016-02-15|\n",
            "|        015|          106|  Michael Lee| 37|  Male| 63000|2014-09-30|\n",
            "|        012|          105|   Susan Chen| 31|Female| 54000|2017-02-15|\n",
            "|        016|          107|  Kelly Zhang| 30|Female| 49000|2018-04-01|\n",
            "|        019|          103|  Steven Chen| 36|  Male| 62000|2015-08-01|\n",
            "|        011|          104|   David Park| 38|  Male| 65000|2015-11-01|\n",
            "|        014|          107|    Emily Lee| 26|Female| 46000|2019-01-01|\n",
            "|        017|          105|  George Wang| 34|  Male| 57000|2016-03-15|\n",
            "|        018|          104|    Nancy Liu| 29|      | 50000|2017-06-01|\n",
            "|        020|          102|    Grace Kim| 32|Female| 53000|2018-11-01|\n",
            "|        013|          106|    Brian Kim| 45|  Male| 75000|2011-07-01|\n",
            "+-----------+-------------+-------------+---+------+------+----------+\n",
            "\n"
          ]
        }
      ]
    },
    {
      "cell_type": "code",
      "source": [
        "emp_dept_id = emp.select(\"department_id\").distinct()\n",
        "emp_dept_id.show()"
      ],
      "metadata": {
        "id": "hspe0RK4JK35"
      },
      "execution_count": 6,
      "outputs": []
    },
    {
      "cell_type": "code",
      "source": [
        "# Window Functions\n",
        "# select *, max(salary) over(partition by department_id order by salary desc) as max_salary from emp_unique\n",
        "from pyspark.sql.window import Window\n",
        "from pyspark.sql.functions import max, col, desc\n",
        "\n",
        "window_spec = Window.partitionBy(col(\"department_id\")).orderBy(col(\"salary\").desc())\n",
        "max_func = max(col(\"salary\")).over(window_spec)\n",
        "\n",
        "emp_1 = emp.withColumn(\"max_salary\", max_func)\n",
        "emp_1.show()"
      ],
      "metadata": {
        "colab": {
          "base_uri": "https://localhost:8080/"
        },
        "id": "DJBMG21ZJOsY",
        "outputId": "18a94711-b816-48d8-fc22-d82f2050a649"
      },
      "execution_count": 8,
      "outputs": [
        {
          "output_type": "stream",
          "name": "stdout",
          "text": [
            "+-----------+-------------+-------------+---+------+------+----------+----------+\n",
            "|employee_id|department_id|         name|age|gender|salary| hire_date|max_salary|\n",
            "+-----------+-------------+-------------+---+------+------+----------+----------+\n",
            "|        007|          101|James Johnson| 42|  Male| 70000|2012-03-15|     70000|\n",
            "|        001|          101|     John Doe| 30|  Male| 50000|2015-01-01|     70000|\n",
            "|        002|          101|   Jane Smith| 25|Female| 45000|2016-02-15|     70000|\n",
            "|        003|          102|    Bob Brown| 35|  Male| 55000|2014-05-01|     55000|\n",
            "|        020|          102|    Grace Kim| 32|Female| 53000|2018-11-01|     55000|\n",
            "|        008|          102|     Kate Kim| 29|Female| 51000|2019-10-01|     55000|\n",
            "|        004|          102|    Alice Lee| 28|Female| 48000|2017-09-30|     55000|\n",
            "|        019|          103|  Steven Chen| 36|  Male| 62000|2015-08-01|     62000|\n",
            "|        005|          103|    Jack Chan| 40|  Male| 60000|2013-04-01|     62000|\n",
            "|        009|          103|      Tom Tan| 33|  Male| 58000|2016-06-01|     62000|\n",
            "|        006|          103|    Jill Wong| 32|Female| 52000|2018-07-01|     62000|\n",
            "|        011|          104|   David Park| 38|  Male| 65000|2015-11-01|     65000|\n",
            "|        018|          104|    Nancy Liu| 29|      | 50000|2017-06-01|     65000|\n",
            "|        010|          104|     Lisa Lee| 27|Female| 47000|2018-08-01|     65000|\n",
            "|        017|          105|  George Wang| 34|  Male| 57000|2016-03-15|     57000|\n",
            "|        012|          105|   Susan Chen| 31|Female| 54000|2017-02-15|     57000|\n",
            "|        013|          106|    Brian Kim| 45|  Male| 75000|2011-07-01|     75000|\n",
            "|        015|          106|  Michael Lee| 37|  Male| 63000|2014-09-30|     75000|\n",
            "|        016|          107|  Kelly Zhang| 30|Female| 49000|2018-04-01|     49000|\n",
            "|        014|          107|    Emily Lee| 26|Female| 46000|2019-01-01|     49000|\n",
            "+-----------+-------------+-------------+---+------+------+----------+----------+\n",
            "\n"
          ]
        }
      ]
    },
    {
      "cell_type": "code",
      "source": [
        "# Window Functions - 2nd highest salary of each department\n",
        "# select *, row_number() over(partition by department_id order by salary desc) as rn from emp_unique where rn = 2\n",
        "from pyspark.sql.window import Window\n",
        "from pyspark.sql.functions import row_number, desc, col\n",
        "\n",
        "window_spec = Window.partitionBy(col(\"department_id\")).orderBy(col(\"salary\").desc())\n",
        "rn = row_number().over(window_spec)\n",
        "\n",
        "emp_2 = emp.withColumn(\"rn\", rn).where(\"rn = 2\")\n",
        "emp_2.show()"
      ],
      "metadata": {
        "colab": {
          "base_uri": "https://localhost:8080/"
        },
        "id": "0xuezTqGJS3l",
        "outputId": "b14f26f7-7ee4-4088-8821-e9fee234b6da"
      },
      "execution_count": 10,
      "outputs": [
        {
          "output_type": "stream",
          "name": "stdout",
          "text": [
            "+-----------+-------------+-----------+---+------+------+----------+---+\n",
            "|employee_id|department_id|       name|age|gender|salary| hire_date| rn|\n",
            "+-----------+-------------+-----------+---+------+------+----------+---+\n",
            "|        001|          101|   John Doe| 30|  Male| 50000|2015-01-01|  2|\n",
            "|        020|          102|  Grace Kim| 32|Female| 53000|2018-11-01|  2|\n",
            "|        005|          103|  Jack Chan| 40|  Male| 60000|2013-04-01|  2|\n",
            "|        018|          104|  Nancy Liu| 29|      | 50000|2017-06-01|  2|\n",
            "|        012|          105| Susan Chen| 31|Female| 54000|2017-02-15|  2|\n",
            "|        015|          106|Michael Lee| 37|  Male| 63000|2014-09-30|  2|\n",
            "|        014|          107|  Emily Lee| 26|Female| 46000|2019-01-01|  2|\n",
            "+-----------+-------------+-----------+---+------+------+----------+---+\n",
            "\n"
          ]
        }
      ]
    },
    {
      "cell_type": "code",
      "source": [
        "# Window function using expr\n",
        "# select *, row_number() over(partition by department_id order by salary desc) as rn from emp_unique where rn = 2\n",
        "from pyspark.sql.functions import expr\n",
        "\n",
        "emp_3 = emp.withColumn(\"rn\", expr(\"row_number() over(partition by department_id order by salary desc)\")).where(\"rn = 2\")\n",
        "emp_3.show()"
      ],
      "metadata": {
        "colab": {
          "base_uri": "https://localhost:8080/"
        },
        "id": "qwmhoCQkJak4",
        "outputId": "f070c7e3-dac8-47e0-ca2a-7595224c3cfa"
      },
      "execution_count": 11,
      "outputs": [
        {
          "output_type": "stream",
          "name": "stdout",
          "text": [
            "+-----------+-------------+-----------+---+------+------+----------+---+\n",
            "|employee_id|department_id|       name|age|gender|salary| hire_date| rn|\n",
            "+-----------+-------------+-----------+---+------+------+----------+---+\n",
            "|        001|          101|   John Doe| 30|  Male| 50000|2015-01-01|  2|\n",
            "|        020|          102|  Grace Kim| 32|Female| 53000|2018-11-01|  2|\n",
            "|        005|          103|  Jack Chan| 40|  Male| 60000|2013-04-01|  2|\n",
            "|        018|          104|  Nancy Liu| 29|      | 50000|2017-06-01|  2|\n",
            "|        012|          105| Susan Chen| 31|Female| 54000|2017-02-15|  2|\n",
            "|        015|          106|Michael Lee| 37|  Male| 63000|2014-09-30|  2|\n",
            "|        014|          107|  Emily Lee| 26|Female| 46000|2019-01-01|  2|\n",
            "+-----------+-------------+-----------+---+------+------+----------+---+\n",
            "\n"
          ]
        }
      ]
    },
    {
      "cell_type": "code",
      "source": [],
      "metadata": {
        "id": "GfyghUiqJzdk"
      },
      "execution_count": null,
      "outputs": []
    }
  ]
}