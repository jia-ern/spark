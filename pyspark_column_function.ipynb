{
 "cells": [
  {
   "cell_type": "code",
   "execution_count": 0,
   "metadata": {
    "application/vnd.databricks.v1+cell": {
     "cellMetadata": {
      "byteLimit": 2048000,
      "rowLimit": 10000
     },
     "inputWidgets": {},
     "nuid": "8948b39c-0dfb-41e4-a78b-8944f96d82e4",
     "showTitle": false,
     "tableResultSettingsMap": {},
     "title": ""
    }
   },
   "outputs": [],
   "source": [
    "data = [(1, \"a\"), (2, \"b\"), (3, \"c\")]\n",
    "df = spark.createDataFrame(data, [\"id\", \"name\"])"
   ]
  },
  {
   "cell_type": "code",
   "execution_count": 0,
   "metadata": {
    "application/vnd.databricks.v1+cell": {
     "cellMetadata": {
      "byteLimit": 2048000,
      "rowLimit": 10000
     },
     "inputWidgets": {},
     "nuid": "3c4789bf-d136-4843-a31d-58e6db3528f7",
     "showTitle": true,
     "tableResultSettingsMap": {},
     "title": "add new column - by duplicating the other col"
    }
   },
   "outputs": [],
   "source": [
    "from pyspark.sql import functions as F\n",
    "\n",
    "df = df.withColumn(\"new_column1\", F.col(\"name\"))\n",
    "df.show(truncate=False)"
   ]
  },
  {
   "cell_type": "code",
   "execution_count": 0,
   "metadata": {
    "application/vnd.databricks.v1+cell": {
     "cellMetadata": {
      "byteLimit": 2048000,
      "rowLimit": 10000
     },
     "inputWidgets": {},
     "nuid": "c4fe95cf-ccc3-4547-8aee-1c404fc5569d",
     "showTitle": true,
     "tableResultSettingsMap": {},
     "title": "add new column - using lit"
    }
   },
   "outputs": [],
   "source": [
    "df = df.withColumn(\"new_column2\", F.lit(\"name\"))\n",
    "df.show(truncate=False)"
   ]
  },
  {
   "cell_type": "code",
   "execution_count": 0,
   "metadata": {
    "application/vnd.databricks.v1+cell": {
     "cellMetadata": {
      "byteLimit": 2048000,
      "rowLimit": 10000
     },
     "inputWidgets": {},
     "nuid": "10db2492-f271-4ac0-8e4e-83ea23b31b7b",
     "showTitle": true,
     "tableResultSettingsMap": {},
     "title": "add new column - by calculation"
    }
   },
   "outputs": [],
   "source": [
    "from pyspark.sql import functions as F\n",
    "\n",
    "df = df.withColumn(\"new_column3\", df.id * 2).withColumn(\"concat\", F.concat(\"new_column1\", \"new_column2\"))\n",
    "df.show(truncate=False)"
   ]
  },
  {
   "cell_type": "code",
   "execution_count": 0,
   "metadata": {
    "application/vnd.databricks.v1+cell": {
     "cellMetadata": {
      "byteLimit": 2048000,
      "rowLimit": 10000
     },
     "inputWidgets": {},
     "nuid": "3c2ae327-663b-4121-bbd8-0d21b2c26a8b",
     "showTitle": true,
     "tableResultSettingsMap": {},
     "title": "rename column"
    }
   },
   "outputs": [],
   "source": [
    "df = df.withColumnRenamed(\"name\", \"new_name\")\n",
    "df.show(truncate=False)"
   ]
  },
  {
   "cell_type": "code",
   "execution_count": 0,
   "metadata": {
    "application/vnd.databricks.v1+cell": {
     "cellMetadata": {
      "byteLimit": 2048000,
      "rowLimit": 10000
     },
     "inputWidgets": {},
     "nuid": "7bb8a13b-c180-4012-a208-11723638a894",
     "showTitle": true,
     "tableResultSettingsMap": {},
     "title": "drop column"
    }
   },
   "outputs": [],
   "source": [
    "df.drop(\"new_name\")\n",
    "df.show(truncate=False)"
   ]
  }
 ],
 "metadata": {
  "application/vnd.databricks.v1+notebook": {
   "computePreferences": null,
   "dashboards": [],
   "environmentMetadata": {
    "base_environment": "",
    "environment_version": "2"
   },
   "inputWidgetPreferences": null,
   "language": "python",
   "notebookMetadata": {
    "pythonIndentUnit": 4
   },
   "notebookName": "pyspark_column_function",
   "widgets": {}
  },
  "language_info": {
   "name": "python"
  }
 },
 "nbformat": 4,
 "nbformat_minor": 0
}
