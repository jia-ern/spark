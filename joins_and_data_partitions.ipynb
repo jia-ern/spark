{
  "nbformat": 4,
  "nbformat_minor": 0,
  "metadata": {
    "colab": {
      "provenance": []
    },
    "kernelspec": {
      "name": "python3",
      "display_name": "Python 3"
    },
    "language_info": {
      "name": "python"
    }
  },
  "cells": [
    {
      "cell_type": "code",
      "execution_count": 1,
      "metadata": {
        "colab": {
          "base_uri": "https://localhost:8080/",
          "height": 219
        },
        "id": "dRSCdeUfK25h",
        "outputId": "2c8b349a-4a80-462e-b2c1-4837311e6055"
      },
      "outputs": [
        {
          "output_type": "execute_result",
          "data": {
            "text/plain": [
              "<pyspark.sql.session.SparkSession at 0x7cfa84774b10>"
            ],
            "text/html": [
              "\n",
              "            <div>\n",
              "                <p><b>SparkSession - in-memory</b></p>\n",
              "                \n",
              "        <div>\n",
              "            <p><b>SparkContext</b></p>\n",
              "\n",
              "            <p><a href=\"http://a9b7869ee039:4040\">Spark UI</a></p>\n",
              "\n",
              "            <dl>\n",
              "              <dt>Version</dt>\n",
              "                <dd><code>v3.5.1</code></dd>\n",
              "              <dt>Master</dt>\n",
              "                <dd><code>local[*]</code></dd>\n",
              "              <dt>AppName</dt>\n",
              "                <dd><code>Joins and Data Partitions</code></dd>\n",
              "            </dl>\n",
              "        </div>\n",
              "        \n",
              "            </div>\n",
              "        "
            ]
          },
          "metadata": {},
          "execution_count": 1
        }
      ],
      "source": [
        "# Spark Session\n",
        "from pyspark.sql import SparkSession\n",
        "\n",
        "spark = (\n",
        "    SparkSession\n",
        "    .builder\n",
        "    .appName(\"Joins and Data Partitions\")\n",
        "    .master(\"local[*]\")\n",
        "    .getOrCreate()\n",
        ")\n",
        "\n",
        "spark"
      ]
    },
    {
      "cell_type": "code",
      "source": [
        "emp_data = [\n",
        "    [\"001\",\"101\",\"John Doe\",\"30\",\"Male\",\"50000\",\"2015-01-01\"],\n",
        "    [\"002\",\"101\",\"Jane Smith\",\"25\",\"Female\",\"45000\",\"2016-02-15\"],\n",
        "    [\"003\",\"102\",\"Bob Brown\",\"35\",\"Male\",\"55000\",\"2014-05-01\"],\n",
        "    [\"004\",\"102\",\"Alice Lee\",\"28\",\"Female\",\"48000\",\"2017-09-30\"],\n",
        "    [\"005\",\"103\",\"Jack Chan\",\"40\",\"Male\",\"60000\",\"2013-04-01\"],\n",
        "    [\"006\",\"103\",\"Jill Wong\",\"32\",\"Female\",\"52000\",\"2018-07-01\"],\n",
        "    [\"007\",\"101\",\"James Johnson\",\"42\",\"Male\",\"70000\",\"2012-03-15\"],\n",
        "    [\"008\",\"102\",\"Kate Kim\",\"29\",\"Female\",\"51000\",\"2019-10-01\"],\n",
        "    [\"009\",\"103\",\"Tom Tan\",\"33\",\"Male\",\"58000\",\"2016-06-01\"],\n",
        "    [\"010\",\"104\",\"Lisa Lee\",\"27\",\"Female\",\"47000\",\"2018-08-01\"],\n",
        "    [\"011\",\"104\",\"David Park\",\"38\",\"Male\",\"65000\",\"2015-11-01\"],\n",
        "    [\"012\",\"105\",\"Susan Chen\",\"31\",\"Female\",\"54000\",\"2017-02-15\"],\n",
        "    [\"013\",\"106\",\"Brian Kim\",\"45\",\"Male\",\"75000\",\"2011-07-01\"],\n",
        "    [\"014\",\"107\",\"Emily Lee\",\"26\",\"Female\",\"46000\",\"2019-01-01\"],\n",
        "    [\"015\",\"106\",\"Michael Lee\",\"37\",\"Male\",\"63000\",\"2014-09-30\"],\n",
        "    [\"016\",\"107\",\"Kelly Zhang\",\"30\",\"Female\",\"49000\",\"2018-04-01\"],\n",
        "    [\"017\",\"105\",\"George Wang\",\"34\",\"Male\",\"57000\",\"2016-03-15\"],\n",
        "    [\"018\",\"104\",\"Nancy Liu\",\"29\",\"\",\"50000\",\"2017-06-01\"],\n",
        "    [\"019\",\"103\",\"Steven Chen\",\"36\",\"Male\",\"62000\",\"2015-08-01\"],\n",
        "    [\"020\",\"102\",\"Grace Kim\",\"32\",\"Female\",\"53000\",\"2018-11-01\"]\n",
        "]\n",
        "\n",
        "emp_schema = \"employee_id string, department_id string, name string, age string, gender string, salary string, hire_date string\"\n",
        "\n",
        "dept_data = [\n",
        "    [\"101\", \"Sales\", \"NYC\", \"US\", \"1000000\"],\n",
        "    [\"102\", \"Marketing\", \"LA\", \"US\", \"900000\"],\n",
        "    [\"103\", \"Finance\", \"London\", \"UK\", \"1200000\"],\n",
        "    [\"104\", \"Engineering\", \"Beijing\", \"China\", \"1500000\"],\n",
        "    [\"105\", \"Human Resources\", \"Tokyo\", \"Japan\", \"800000\"],\n",
        "    [\"106\", \"Research and Development\", \"Perth\", \"Australia\", \"1100000\"],\n",
        "    [\"107\", \"Customer Service\", \"Sydney\", \"Australia\", \"950000\"]\n",
        "]\n",
        "\n",
        "dept_schema = \"department_id string, department_name string, city string, country string, budget string\""
      ],
      "metadata": {
        "id": "HlJbxeT8K5jf"
      },
      "execution_count": 2,
      "outputs": []
    },
    {
      "cell_type": "code",
      "source": [
        "emp = spark.createDataFrame(data=emp_data, schema=emp_schema)\n",
        "dept = spark.createDataFrame(data=dept_data, schema=dept_schema)\n",
        "\n",
        "emp.show()\n",
        "dept.show()"
      ],
      "metadata": {
        "colab": {
          "base_uri": "https://localhost:8080/"
        },
        "id": "XG0NUWV5LBtx",
        "outputId": "c5c7d091-96eb-4339-d0f9-08987244200d"
      },
      "execution_count": 3,
      "outputs": [
        {
          "output_type": "stream",
          "name": "stdout",
          "text": [
            "+-----------+-------------+-------------+---+------+------+----------+\n",
            "|employee_id|department_id|         name|age|gender|salary| hire_date|\n",
            "+-----------+-------------+-------------+---+------+------+----------+\n",
            "|        001|          101|     John Doe| 30|  Male| 50000|2015-01-01|\n",
            "|        002|          101|   Jane Smith| 25|Female| 45000|2016-02-15|\n",
            "|        003|          102|    Bob Brown| 35|  Male| 55000|2014-05-01|\n",
            "|        004|          102|    Alice Lee| 28|Female| 48000|2017-09-30|\n",
            "|        005|          103|    Jack Chan| 40|  Male| 60000|2013-04-01|\n",
            "|        006|          103|    Jill Wong| 32|Female| 52000|2018-07-01|\n",
            "|        007|          101|James Johnson| 42|  Male| 70000|2012-03-15|\n",
            "|        008|          102|     Kate Kim| 29|Female| 51000|2019-10-01|\n",
            "|        009|          103|      Tom Tan| 33|  Male| 58000|2016-06-01|\n",
            "|        010|          104|     Lisa Lee| 27|Female| 47000|2018-08-01|\n",
            "|        011|          104|   David Park| 38|  Male| 65000|2015-11-01|\n",
            "|        012|          105|   Susan Chen| 31|Female| 54000|2017-02-15|\n",
            "|        013|          106|    Brian Kim| 45|  Male| 75000|2011-07-01|\n",
            "|        014|          107|    Emily Lee| 26|Female| 46000|2019-01-01|\n",
            "|        015|          106|  Michael Lee| 37|  Male| 63000|2014-09-30|\n",
            "|        016|          107|  Kelly Zhang| 30|Female| 49000|2018-04-01|\n",
            "|        017|          105|  George Wang| 34|  Male| 57000|2016-03-15|\n",
            "|        018|          104|    Nancy Liu| 29|      | 50000|2017-06-01|\n",
            "|        019|          103|  Steven Chen| 36|  Male| 62000|2015-08-01|\n",
            "|        020|          102|    Grace Kim| 32|Female| 53000|2018-11-01|\n",
            "+-----------+-------------+-------------+---+------+------+----------+\n",
            "\n",
            "+-------------+--------------------+-------+---------+-------+\n",
            "|department_id|     department_name|   city|  country| budget|\n",
            "+-------------+--------------------+-------+---------+-------+\n",
            "|          101|               Sales|    NYC|       US|1000000|\n",
            "|          102|           Marketing|     LA|       US| 900000|\n",
            "|          103|             Finance| London|       UK|1200000|\n",
            "|          104|         Engineering|Beijing|    China|1500000|\n",
            "|          105|     Human Resources|  Tokyo|    Japan| 800000|\n",
            "|          106|Research and Deve...|  Perth|Australia|1100000|\n",
            "|          107|    Customer Service| Sydney|Australia| 950000|\n",
            "+-------------+--------------------+-------+---------+-------+\n",
            "\n"
          ]
        }
      ]
    },
    {
      "cell_type": "code",
      "source": [
        "print(emp.rdd.getNumPartitions())\n",
        "print(dept.rdd.getNumPartitions())"
      ],
      "metadata": {
        "colab": {
          "base_uri": "https://localhost:8080/"
        },
        "id": "GjzVj94xLF3C",
        "outputId": "40b58bcf-a393-40c5-e487-a7536af50942"
      },
      "execution_count": 5,
      "outputs": [
        {
          "output_type": "stream",
          "name": "stdout",
          "text": [
            "2\n",
            "2\n"
          ]
        }
      ]
    },
    {
      "cell_type": "code",
      "source": [
        "# Repartition of data using repartition & coalesce\n",
        "emp_partitioned = emp.repartition(4, \"department_id\")\n",
        "emp_partitioned.rdd.getNumPartitions()"
      ],
      "metadata": {
        "colab": {
          "base_uri": "https://localhost:8080/"
        },
        "id": "RkmVEs5oLL3c",
        "outputId": "7056ce4c-c8d7-40a2-8523-467aef943958"
      },
      "execution_count": 8,
      "outputs": [
        {
          "output_type": "execute_result",
          "data": {
            "text/plain": [
              "4"
            ]
          },
          "metadata": {},
          "execution_count": 8
        }
      ]
    },
    {
      "cell_type": "code",
      "source": [
        "from pyspark.sql.functions import spark_partition_id\n",
        "\n",
        "emp_1 = emp.repartition(4, \"department_id\").withColumn(\"partition_num\", spark_partition_id())\n",
        "emp_1.show()"
      ],
      "metadata": {
        "colab": {
          "base_uri": "https://localhost:8080/"
        },
        "id": "zR7UIClBLSjm",
        "outputId": "6f64e9f2-b6a9-4a19-acc5-29b0a33067ad"
      },
      "execution_count": 9,
      "outputs": [
        {
          "output_type": "stream",
          "name": "stdout",
          "text": [
            "+-----------+-------------+-------------+---+------+------+----------+-------------+\n",
            "|employee_id|department_id|         name|age|gender|salary| hire_date|partition_num|\n",
            "+-----------+-------------+-------------+---+------+------+----------+-------------+\n",
            "|        003|          102|    Bob Brown| 35|  Male| 55000|2014-05-01|            0|\n",
            "|        004|          102|    Alice Lee| 28|Female| 48000|2017-09-30|            0|\n",
            "|        008|          102|     Kate Kim| 29|Female| 51000|2019-10-01|            0|\n",
            "|        014|          107|    Emily Lee| 26|Female| 46000|2019-01-01|            0|\n",
            "|        016|          107|  Kelly Zhang| 30|Female| 49000|2018-04-01|            0|\n",
            "|        020|          102|    Grace Kim| 32|Female| 53000|2018-11-01|            0|\n",
            "|        012|          105|   Susan Chen| 31|Female| 54000|2017-02-15|            1|\n",
            "|        017|          105|  George Wang| 34|  Male| 57000|2016-03-15|            1|\n",
            "|        010|          104|     Lisa Lee| 27|Female| 47000|2018-08-01|            2|\n",
            "|        011|          104|   David Park| 38|  Male| 65000|2015-11-01|            2|\n",
            "|        013|          106|    Brian Kim| 45|  Male| 75000|2011-07-01|            2|\n",
            "|        015|          106|  Michael Lee| 37|  Male| 63000|2014-09-30|            2|\n",
            "|        018|          104|    Nancy Liu| 29|      | 50000|2017-06-01|            2|\n",
            "|        001|          101|     John Doe| 30|  Male| 50000|2015-01-01|            3|\n",
            "|        002|          101|   Jane Smith| 25|Female| 45000|2016-02-15|            3|\n",
            "|        005|          103|    Jack Chan| 40|  Male| 60000|2013-04-01|            3|\n",
            "|        006|          103|    Jill Wong| 32|Female| 52000|2018-07-01|            3|\n",
            "|        007|          101|James Johnson| 42|  Male| 70000|2012-03-15|            3|\n",
            "|        009|          103|      Tom Tan| 33|  Male| 58000|2016-06-01|            3|\n",
            "|        019|          103|  Steven Chen| 36|  Male| 62000|2015-08-01|            3|\n",
            "+-----------+-------------+-------------+---+------+------+----------+-------------+\n",
            "\n"
          ]
        }
      ]
    },
    {
      "cell_type": "code",
      "source": [
        "df_joined = emp.alias(\"e\").join(dept.alias(\"d\"), how=\"inner\", on=emp.department_id==dept.department_id)\n",
        "df_joined.select(\"e.name\", \"d.department_id\", \"d.department_name\", \"e.salary\").show()"
      ],
      "metadata": {
        "colab": {
          "base_uri": "https://localhost:8080/"
        },
        "id": "6NIiJ0gtLbJ1",
        "outputId": "7399b425-92bf-4dc5-9624-89608a4edf16"
      },
      "execution_count": 10,
      "outputs": [
        {
          "output_type": "stream",
          "name": "stdout",
          "text": [
            "+-------------+-------------+--------------------+------+\n",
            "|         name|department_id|     department_name|salary|\n",
            "+-------------+-------------+--------------------+------+\n",
            "|     John Doe|          101|               Sales| 50000|\n",
            "|   Jane Smith|          101|               Sales| 45000|\n",
            "|James Johnson|          101|               Sales| 70000|\n",
            "|    Bob Brown|          102|           Marketing| 55000|\n",
            "|    Alice Lee|          102|           Marketing| 48000|\n",
            "|     Kate Kim|          102|           Marketing| 51000|\n",
            "|    Grace Kim|          102|           Marketing| 53000|\n",
            "|    Jack Chan|          103|             Finance| 60000|\n",
            "|    Jill Wong|          103|             Finance| 52000|\n",
            "|      Tom Tan|          103|             Finance| 58000|\n",
            "|  Steven Chen|          103|             Finance| 62000|\n",
            "|     Lisa Lee|          104|         Engineering| 47000|\n",
            "|   David Park|          104|         Engineering| 65000|\n",
            "|    Nancy Liu|          104|         Engineering| 50000|\n",
            "|   Susan Chen|          105|     Human Resources| 54000|\n",
            "|  George Wang|          105|     Human Resources| 57000|\n",
            "|    Brian Kim|          106|Research and Deve...| 75000|\n",
            "|  Michael Lee|          106|Research and Deve...| 63000|\n",
            "|    Emily Lee|          107|    Customer Service| 46000|\n",
            "|  Kelly Zhang|          107|    Customer Service| 49000|\n",
            "+-------------+-------------+--------------------+------+\n",
            "\n"
          ]
        }
      ]
    },
    {
      "cell_type": "code",
      "source": [
        "df_joined = emp.alias(\"e\").join(dept.alias(\"d\"), how=\"left_outer\", on=emp.department_id==dept.department_id)\n",
        "df_joined.select(\"e.name\", \"d.department_name\", \"d.department_id\", \"e.salary\").show()"
      ],
      "metadata": {
        "colab": {
          "base_uri": "https://localhost:8080/"
        },
        "id": "4ZoQAuhtPvde",
        "outputId": "ef8faebd-439b-4694-ea8d-08b6cbb6fd8c"
      },
      "execution_count": 11,
      "outputs": [
        {
          "output_type": "stream",
          "name": "stdout",
          "text": [
            "+-------------+--------------------+-------------+------+\n",
            "|         name|     department_name|department_id|salary|\n",
            "+-------------+--------------------+-------------+------+\n",
            "|     John Doe|               Sales|          101| 50000|\n",
            "|   Jane Smith|               Sales|          101| 45000|\n",
            "|James Johnson|               Sales|          101| 70000|\n",
            "|     Lisa Lee|         Engineering|          104| 47000|\n",
            "|    Bob Brown|           Marketing|          102| 55000|\n",
            "|    Alice Lee|           Marketing|          102| 48000|\n",
            "|     Kate Kim|           Marketing|          102| 51000|\n",
            "|    Jack Chan|             Finance|          103| 60000|\n",
            "|    Jill Wong|             Finance|          103| 52000|\n",
            "|      Tom Tan|             Finance|          103| 58000|\n",
            "|    Emily Lee|    Customer Service|          107| 46000|\n",
            "|  Kelly Zhang|    Customer Service|          107| 49000|\n",
            "|   David Park|         Engineering|          104| 65000|\n",
            "|    Nancy Liu|         Engineering|          104| 50000|\n",
            "|    Grace Kim|           Marketing|          102| 53000|\n",
            "|  Steven Chen|             Finance|          103| 62000|\n",
            "|    Brian Kim|Research and Deve...|          106| 75000|\n",
            "|  Michael Lee|Research and Deve...|          106| 63000|\n",
            "|   Susan Chen|     Human Resources|          105| 54000|\n",
            "|  George Wang|     Human Resources|          105| 57000|\n",
            "+-------------+--------------------+-------------+------+\n",
            "\n"
          ]
        }
      ]
    },
    {
      "cell_type": "code",
      "source": [
        "df_joined.select(\"e.name\", \"d.department_name\", \"d.department_id\",\"e.salary\").write.format(\"csv\").save(\"data/output/7/emp_joined.csv\")"
      ],
      "metadata": {
        "id": "Fe5gW2uyP1ML"
      },
      "execution_count": 12,
      "outputs": []
    },
    {
      "cell_type": "code",
      "source": [
        "\n",
        "# Bonus TIP\n",
        "# Joins with cascading conditions\n",
        "# Join with Department_id and only for departments 101 or 102\n",
        "# Join with not null/null conditions\n",
        "\n",
        "df_final = emp.join(dept, how=\"left_outer\",\n",
        "                   on=(emp.department_id==dept.department_id) & ((emp.department_id == \"101\") | (emp.department_id == \"102\"))\n",
        "                    & (emp.salary.isNull())\n",
        "                   )\n",
        "df_final.show()"
      ],
      "metadata": {
        "colab": {
          "base_uri": "https://localhost:8080/"
        },
        "id": "1amIGyaRP9L4",
        "outputId": "107667a6-70d0-4ea2-f420-83c5be23a748"
      },
      "execution_count": 14,
      "outputs": [
        {
          "output_type": "stream",
          "name": "stdout",
          "text": [
            "+-----------+-------------+-------------+---+------+------+----------+-------------+---------------+----+-------+------+\n",
            "|employee_id|department_id|         name|age|gender|salary| hire_date|department_id|department_name|city|country|budget|\n",
            "+-----------+-------------+-------------+---+------+------+----------+-------------+---------------+----+-------+------+\n",
            "|        001|          101|     John Doe| 30|  Male| 50000|2015-01-01|         NULL|           NULL|NULL|   NULL|  NULL|\n",
            "|        002|          101|   Jane Smith| 25|Female| 45000|2016-02-15|         NULL|           NULL|NULL|   NULL|  NULL|\n",
            "|        007|          101|James Johnson| 42|  Male| 70000|2012-03-15|         NULL|           NULL|NULL|   NULL|  NULL|\n",
            "|        010|          104|     Lisa Lee| 27|Female| 47000|2018-08-01|         NULL|           NULL|NULL|   NULL|  NULL|\n",
            "|        003|          102|    Bob Brown| 35|  Male| 55000|2014-05-01|         NULL|           NULL|NULL|   NULL|  NULL|\n",
            "|        004|          102|    Alice Lee| 28|Female| 48000|2017-09-30|         NULL|           NULL|NULL|   NULL|  NULL|\n",
            "|        008|          102|     Kate Kim| 29|Female| 51000|2019-10-01|         NULL|           NULL|NULL|   NULL|  NULL|\n",
            "|        005|          103|    Jack Chan| 40|  Male| 60000|2013-04-01|         NULL|           NULL|NULL|   NULL|  NULL|\n",
            "|        006|          103|    Jill Wong| 32|Female| 52000|2018-07-01|         NULL|           NULL|NULL|   NULL|  NULL|\n",
            "|        009|          103|      Tom Tan| 33|  Male| 58000|2016-06-01|         NULL|           NULL|NULL|   NULL|  NULL|\n",
            "|        014|          107|    Emily Lee| 26|Female| 46000|2019-01-01|         NULL|           NULL|NULL|   NULL|  NULL|\n",
            "|        016|          107|  Kelly Zhang| 30|Female| 49000|2018-04-01|         NULL|           NULL|NULL|   NULL|  NULL|\n",
            "|        011|          104|   David Park| 38|  Male| 65000|2015-11-01|         NULL|           NULL|NULL|   NULL|  NULL|\n",
            "|        018|          104|    Nancy Liu| 29|      | 50000|2017-06-01|         NULL|           NULL|NULL|   NULL|  NULL|\n",
            "|        020|          102|    Grace Kim| 32|Female| 53000|2018-11-01|         NULL|           NULL|NULL|   NULL|  NULL|\n",
            "|        019|          103|  Steven Chen| 36|  Male| 62000|2015-08-01|         NULL|           NULL|NULL|   NULL|  NULL|\n",
            "|        013|          106|    Brian Kim| 45|  Male| 75000|2011-07-01|         NULL|           NULL|NULL|   NULL|  NULL|\n",
            "|        015|          106|  Michael Lee| 37|  Male| 63000|2014-09-30|         NULL|           NULL|NULL|   NULL|  NULL|\n",
            "|        012|          105|   Susan Chen| 31|Female| 54000|2017-02-15|         NULL|           NULL|NULL|   NULL|  NULL|\n",
            "|        017|          105|  George Wang| 34|  Male| 57000|2016-03-15|         NULL|           NULL|NULL|   NULL|  NULL|\n",
            "+-----------+-------------+-------------+---+------+------+----------+-------------+---------------+----+-------+------+\n",
            "\n"
          ]
        }
      ]
    },
    {
      "cell_type": "code",
      "source": [],
      "metadata": {
        "id": "IWingrV9P9oO"
      },
      "execution_count": null,
      "outputs": []
    }
  ]
}